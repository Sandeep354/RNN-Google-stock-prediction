{
  "nbformat": 4,
  "nbformat_minor": 0,
  "metadata": {
    "colab": {
      "name": "RNN-Stock-Price-Pred.ipynb",
      "provenance": [],
      "authorship_tag": "ABX9TyNmEVSfK+9HfOc3p7WJ2UzV",
      "include_colab_link": true
    },
    "kernelspec": {
      "name": "python3",
      "display_name": "Python 3"
    }
  },
  "cells": [
    {
      "cell_type": "markdown",
      "metadata": {
        "id": "view-in-github",
        "colab_type": "text"
      },
      "source": [
        "<a href=\"https://colab.research.google.com/github/Sandeep354/RNN-Google-stock-prediction/blob/main/RNN_Stock_Price_Pred.ipynb\" target=\"_parent\"><img src=\"https://colab.research.google.com/assets/colab-badge.svg\" alt=\"Open In Colab\"/></a>"
      ]
    },
    {
      "cell_type": "code",
      "metadata": {
        "id": "QwJW4WU1ibGk"
      },
      "source": [
        "# Recurrent Neural Network"
      ],
      "execution_count": 17,
      "outputs": []
    },
    {
      "cell_type": "code",
      "metadata": {
        "id": "J5WxdPb5ijL7"
      },
      "source": [
        "# Part 1 - Data Preprocessing"
      ],
      "execution_count": 18,
      "outputs": []
    },
    {
      "cell_type": "code",
      "metadata": {
        "id": "gNPR83d2imy2"
      },
      "source": [
        "# Importing the libraries\n",
        "import numpy as np\n",
        "import pandas as pd\n",
        "import matplotlib.pyplot as plt"
      ],
      "execution_count": 19,
      "outputs": []
    },
    {
      "cell_type": "code",
      "metadata": {
        "id": "R2H5M8qUio27"
      },
      "source": [
        "# Importing the training set\n",
        "dataset_train = pd.read_csv(\"Google_Stock_Price_Train.csv\")\n",
        "training_set = dataset_train.iloc[:, 1:2].values # only want 1st index but still have to specify as 1:2\n"
      ],
      "execution_count": 20,
      "outputs": []
    },
    {
      "cell_type": "code",
      "metadata": {
        "id": "m78eiAl0irnI"
      },
      "source": [
        "# Feature Scaling (Standardisation or Normalization)\n",
        "from sklearn.preprocessing import MinMaxScaler\n",
        "sc = MinMaxScaler(feature_range=(0,1)) # this feature_range is by default (0,1) only \n",
        "training_set_scaled = sc.fit_transform(training_set)"
      ],
      "execution_count": 21,
      "outputs": []
    },
    {
      "cell_type": "code",
      "metadata": {
        "id": "g0bieWZxi2we"
      },
      "source": [
        "# Creating a data structure with 60 timesteps and 1 output\n",
        "# 60 timesteps - look at past 60 data to predict next outcome (1 outcome)\n",
        "# So we will create X_train (past 60 data) and y_train (1 outcome)\n",
        "timesteps = 60\n",
        "X_train = []\n",
        "y_train = []\n",
        "for i in range(timesteps, len(training_set_scaled)):\n",
        "    X_train.append(training_set_scaled[i-timesteps:i, 0])\n",
        "    y_train.append(training_set_scaled[i, 0])\n",
        "\n",
        "X_train, y_train = np.array(X_train), np.array(y_train)"
      ],
      "execution_count": 22,
      "outputs": []
    },
    {
      "cell_type": "code",
      "metadata": {
        "id": "YKQNQCDOi5Xp"
      },
      "source": [
        "# Reshaping - adding some more dimension (unit - no. of predictors we can use to predict)\n",
        "# predictors are --> Indicators \n",
        "# we want (batch_size, timesteps, no.of indicators) (we are only adding one indicator here - open price)\n",
        "X_train = np.reshape(X_train, (X_train.shape[0], X_train.shape[1], 1))"
      ],
      "execution_count": 23,
      "outputs": []
    },
    {
      "cell_type": "code",
      "metadata": {
        "id": "XAGbfspvi7qz"
      },
      "source": [
        "# Part 2 - Building the RNN"
      ],
      "execution_count": 24,
      "outputs": []
    },
    {
      "cell_type": "code",
      "metadata": {
        "id": "upYEOzLDi-uU"
      },
      "source": [
        "# Importing the keras libraries and packages\n",
        "from keras.models import Sequential\n",
        "from keras.layers import Dense\n",
        "from keras.layers import LSTM\n",
        "from keras.layers import Dropout"
      ],
      "execution_count": 25,
      "outputs": []
    },
    {
      "cell_type": "code",
      "metadata": {
        "id": "AnEFfsR8jA8y"
      },
      "source": [
        "# Initializing the RNN\n",
        "regressor = Sequential()"
      ],
      "execution_count": 26,
      "outputs": []
    },
    {
      "cell_type": "code",
      "metadata": {
        "id": "OVqfAgjIjC4Y"
      },
      "source": [
        "# Adding the first LSTM layer and some Dropout regularization (to avoid overfiting)\n",
        "# 3 inputs in LSTM (no.of memory units/neurons, return sequences-true for multiple LSTM layers/if you want to add more layers, input shape - X_train)\n",
        "# Now lets add our 1st LSTM layer\n",
        "regressor.add(LSTM(units = 50, return_sequences = True, input_shape = (X_train.shape[1], 1)))\n",
        "# Add the dropout (we will ignore 20% random neurons)\n",
        "regressor.add(Dropout(rate = 0.2))"
      ],
      "execution_count": 27,
      "outputs": []
    },
    {
      "cell_type": "code",
      "metadata": {
        "id": "yMklR2PajHEM"
      },
      "source": [
        "# Adding the 2nd layer LSTM layer and some Dropout regularization (now we dont need to specify input layer anymore)\n",
        "regressor.add(LSTM(units = 50, return_sequences = True))\n",
        "regressor.add(Dropout(rate = 0.2))\n",
        "\n",
        "# Adding the 3rd layer LSTM layer and some Dropout regularization\n",
        "regressor.add(LSTM(units = 50, return_sequences = True))\n",
        "regressor.add(Dropout(rate = 0.2))\n",
        "\n",
        "# Adding the 4th layer LSTM layer and some Dropout regularization (here, return_sequence=False|this is deafult, so no need to add explicitly|, since we dont any more layers)\n",
        "regressor.add(LSTM(units = 50))\n",
        "regressor.add(Dropout(rate = 0.2))"
      ],
      "execution_count": 28,
      "outputs": []
    },
    {
      "cell_type": "code",
      "metadata": {
        "id": "bWmUMU8njLg3"
      },
      "source": [
        "# Adding the output layer (units=1 --> dimension of output layer)\n",
        "regressor.add(Dense(units = 1))"
      ],
      "execution_count": 29,
      "outputs": []
    },
    {
      "cell_type": "code",
      "metadata": {
        "id": "fhnF_iPvjN4n"
      },
      "source": [
        "# Compile the RNN\n",
        "regressor.compile(optimizer='adam', loss='mean_squared_error')"
      ],
      "execution_count": 30,
      "outputs": []
    },
    {
      "cell_type": "code",
      "metadata": {
        "id": "VdtYy_VujQeg",
        "outputId": "6ddd9248-3721-4cad-da7e-737155462dd0",
        "colab": {
          "base_uri": "https://localhost:8080/",
          "height": 1000
        }
      },
      "source": [
        "# Fitting the RNN to the training set\n",
        "regressor.fit(x=X_train, y=y_train, epochs=100, batch_size=32)"
      ],
      "execution_count": 31,
      "outputs": [
        {
          "output_type": "stream",
          "text": [
            "Epoch 1/100\n",
            "38/38 [==============================] - 4s 107ms/step - loss: 0.0392\n",
            "Epoch 2/100\n",
            "38/38 [==============================] - 4s 112ms/step - loss: 0.0069\n",
            "Epoch 3/100\n",
            "38/38 [==============================] - 4s 111ms/step - loss: 0.0067\n",
            "Epoch 4/100\n",
            "38/38 [==============================] - 4s 112ms/step - loss: 0.0051\n",
            "Epoch 5/100\n",
            "38/38 [==============================] - 4s 111ms/step - loss: 0.0054\n",
            "Epoch 6/100\n",
            "38/38 [==============================] - 4s 110ms/step - loss: 0.0059\n",
            "Epoch 7/100\n",
            "38/38 [==============================] - 4s 110ms/step - loss: 0.0051\n",
            "Epoch 8/100\n",
            "38/38 [==============================] - 4s 110ms/step - loss: 0.0048\n",
            "Epoch 9/100\n",
            "38/38 [==============================] - 4s 111ms/step - loss: 0.0054\n",
            "Epoch 10/100\n",
            "38/38 [==============================] - 4s 111ms/step - loss: 0.0048\n",
            "Epoch 11/100\n",
            "38/38 [==============================] - 4s 112ms/step - loss: 0.0051\n",
            "Epoch 12/100\n",
            "38/38 [==============================] - 4s 111ms/step - loss: 0.0043\n",
            "Epoch 13/100\n",
            "38/38 [==============================] - 4s 112ms/step - loss: 0.0039\n",
            "Epoch 14/100\n",
            "38/38 [==============================] - 4s 113ms/step - loss: 0.0040\n",
            "Epoch 15/100\n",
            "38/38 [==============================] - 4s 113ms/step - loss: 0.0039\n",
            "Epoch 16/100\n",
            "38/38 [==============================] - 4s 113ms/step - loss: 0.0039\n",
            "Epoch 17/100\n",
            "38/38 [==============================] - 4s 113ms/step - loss: 0.0037\n",
            "Epoch 18/100\n",
            "38/38 [==============================] - 4s 114ms/step - loss: 0.0032\n",
            "Epoch 19/100\n",
            "38/38 [==============================] - 4s 115ms/step - loss: 0.0036\n",
            "Epoch 20/100\n",
            "38/38 [==============================] - 4s 111ms/step - loss: 0.0040\n",
            "Epoch 21/100\n",
            "38/38 [==============================] - 4s 112ms/step - loss: 0.0032\n",
            "Epoch 22/100\n",
            "38/38 [==============================] - 4s 113ms/step - loss: 0.0032\n",
            "Epoch 23/100\n",
            "38/38 [==============================] - 4s 113ms/step - loss: 0.0034\n",
            "Epoch 24/100\n",
            "38/38 [==============================] - 4s 113ms/step - loss: 0.0033\n",
            "Epoch 25/100\n",
            "38/38 [==============================] - 4s 113ms/step - loss: 0.0031\n",
            "Epoch 26/100\n",
            "38/38 [==============================] - 4s 113ms/step - loss: 0.0029\n",
            "Epoch 27/100\n",
            "38/38 [==============================] - 4s 112ms/step - loss: 0.0031\n",
            "Epoch 28/100\n",
            "38/38 [==============================] - 4s 113ms/step - loss: 0.0029\n",
            "Epoch 29/100\n",
            "38/38 [==============================] - 4s 114ms/step - loss: 0.0029\n",
            "Epoch 30/100\n",
            "38/38 [==============================] - 4s 113ms/step - loss: 0.0033\n",
            "Epoch 31/100\n",
            "38/38 [==============================] - 4s 113ms/step - loss: 0.0034\n",
            "Epoch 32/100\n",
            "38/38 [==============================] - 4s 114ms/step - loss: 0.0026\n",
            "Epoch 33/100\n",
            "38/38 [==============================] - 4s 113ms/step - loss: 0.0027\n",
            "Epoch 34/100\n",
            "38/38 [==============================] - 4s 112ms/step - loss: 0.0029\n",
            "Epoch 35/100\n",
            "38/38 [==============================] - 4s 112ms/step - loss: 0.0025\n",
            "Epoch 36/100\n",
            "38/38 [==============================] - 4s 112ms/step - loss: 0.0027\n",
            "Epoch 37/100\n",
            "38/38 [==============================] - 4s 112ms/step - loss: 0.0026\n",
            "Epoch 38/100\n",
            "38/38 [==============================] - 4s 115ms/step - loss: 0.0029\n",
            "Epoch 39/100\n",
            "38/38 [==============================] - 4s 113ms/step - loss: 0.0025\n",
            "Epoch 40/100\n",
            "38/38 [==============================] - 4s 114ms/step - loss: 0.0026\n",
            "Epoch 41/100\n",
            "38/38 [==============================] - 4s 113ms/step - loss: 0.0025\n",
            "Epoch 42/100\n",
            "38/38 [==============================] - 4s 113ms/step - loss: 0.0024\n",
            "Epoch 43/100\n",
            "38/38 [==============================] - 4s 113ms/step - loss: 0.0023\n",
            "Epoch 44/100\n",
            "38/38 [==============================] - 4s 113ms/step - loss: 0.0026\n",
            "Epoch 45/100\n",
            "38/38 [==============================] - 4s 117ms/step - loss: 0.0025\n",
            "Epoch 46/100\n",
            "38/38 [==============================] - 5s 124ms/step - loss: 0.0025\n",
            "Epoch 47/100\n",
            "38/38 [==============================] - 4s 113ms/step - loss: 0.0023\n",
            "Epoch 48/100\n",
            "38/38 [==============================] - 4s 111ms/step - loss: 0.0022\n",
            "Epoch 49/100\n",
            "38/38 [==============================] - 4s 112ms/step - loss: 0.0021\n",
            "Epoch 50/100\n",
            "38/38 [==============================] - 4s 113ms/step - loss: 0.0023\n",
            "Epoch 51/100\n",
            "38/38 [==============================] - 4s 112ms/step - loss: 0.0024\n",
            "Epoch 52/100\n",
            "38/38 [==============================] - 4s 113ms/step - loss: 0.0024\n",
            "Epoch 53/100\n",
            "38/38 [==============================] - 4s 113ms/step - loss: 0.0023\n",
            "Epoch 54/100\n",
            "38/38 [==============================] - 4s 112ms/step - loss: 0.0021\n",
            "Epoch 55/100\n",
            "38/38 [==============================] - 4s 112ms/step - loss: 0.0019\n",
            "Epoch 56/100\n",
            "38/38 [==============================] - 4s 113ms/step - loss: 0.0022\n",
            "Epoch 57/100\n",
            "38/38 [==============================] - 4s 112ms/step - loss: 0.0019\n",
            "Epoch 58/100\n",
            "38/38 [==============================] - 4s 113ms/step - loss: 0.0022\n",
            "Epoch 59/100\n",
            "38/38 [==============================] - 4s 114ms/step - loss: 0.0021\n",
            "Epoch 60/100\n",
            "38/38 [==============================] - 4s 112ms/step - loss: 0.0020\n",
            "Epoch 61/100\n",
            "38/38 [==============================] - 4s 113ms/step - loss: 0.0019\n",
            "Epoch 62/100\n",
            "38/38 [==============================] - 4s 113ms/step - loss: 0.0017\n",
            "Epoch 63/100\n",
            "38/38 [==============================] - 4s 112ms/step - loss: 0.0019\n",
            "Epoch 64/100\n",
            "38/38 [==============================] - 4s 114ms/step - loss: 0.0019\n",
            "Epoch 65/100\n",
            "38/38 [==============================] - 4s 115ms/step - loss: 0.0020\n",
            "Epoch 66/100\n",
            "38/38 [==============================] - 4s 114ms/step - loss: 0.0018\n",
            "Epoch 67/100\n",
            "38/38 [==============================] - 4s 118ms/step - loss: 0.0019\n",
            "Epoch 68/100\n",
            "38/38 [==============================] - 5s 119ms/step - loss: 0.0019\n",
            "Epoch 69/100\n",
            "38/38 [==============================] - 5s 121ms/step - loss: 0.0018\n",
            "Epoch 70/100\n",
            "38/38 [==============================] - 4s 112ms/step - loss: 0.0020\n",
            "Epoch 71/100\n",
            "38/38 [==============================] - 4s 112ms/step - loss: 0.0018\n",
            "Epoch 72/100\n",
            "38/38 [==============================] - 4s 116ms/step - loss: 0.0018\n",
            "Epoch 73/100\n",
            "38/38 [==============================] - 4s 114ms/step - loss: 0.0018\n",
            "Epoch 74/100\n",
            "38/38 [==============================] - 4s 112ms/step - loss: 0.0018\n",
            "Epoch 75/100\n",
            "38/38 [==============================] - 4s 113ms/step - loss: 0.0017\n",
            "Epoch 76/100\n",
            "38/38 [==============================] - 4s 112ms/step - loss: 0.0018\n",
            "Epoch 77/100\n",
            "38/38 [==============================] - 4s 112ms/step - loss: 0.0016\n",
            "Epoch 78/100\n",
            "38/38 [==============================] - 4s 112ms/step - loss: 0.0015\n",
            "Epoch 79/100\n",
            "38/38 [==============================] - 4s 113ms/step - loss: 0.0019\n",
            "Epoch 80/100\n",
            "38/38 [==============================] - 4s 113ms/step - loss: 0.0017\n",
            "Epoch 81/100\n",
            "38/38 [==============================] - 4s 114ms/step - loss: 0.0016\n",
            "Epoch 82/100\n",
            "38/38 [==============================] - 4s 113ms/step - loss: 0.0016\n",
            "Epoch 83/100\n",
            "38/38 [==============================] - 4s 113ms/step - loss: 0.0016\n",
            "Epoch 84/100\n",
            "38/38 [==============================] - 4s 114ms/step - loss: 0.0016\n",
            "Epoch 85/100\n",
            "38/38 [==============================] - 4s 115ms/step - loss: 0.0015\n",
            "Epoch 86/100\n",
            "38/38 [==============================] - 4s 113ms/step - loss: 0.0015\n",
            "Epoch 87/100\n",
            "38/38 [==============================] - 4s 113ms/step - loss: 0.0014\n",
            "Epoch 88/100\n",
            "38/38 [==============================] - 4s 114ms/step - loss: 0.0014\n",
            "Epoch 89/100\n",
            "38/38 [==============================] - 4s 113ms/step - loss: 0.0017\n",
            "Epoch 90/100\n",
            "38/38 [==============================] - 4s 113ms/step - loss: 0.0015\n",
            "Epoch 91/100\n",
            "38/38 [==============================] - 4s 113ms/step - loss: 0.0015\n",
            "Epoch 92/100\n",
            "38/38 [==============================] - 4s 113ms/step - loss: 0.0015\n",
            "Epoch 93/100\n",
            "38/38 [==============================] - 4s 114ms/step - loss: 0.0015\n",
            "Epoch 94/100\n",
            "38/38 [==============================] - 4s 113ms/step - loss: 0.0014\n",
            "Epoch 95/100\n",
            "38/38 [==============================] - 4s 113ms/step - loss: 0.0014\n",
            "Epoch 96/100\n",
            "38/38 [==============================] - 4s 114ms/step - loss: 0.0014\n",
            "Epoch 97/100\n",
            "38/38 [==============================] - 4s 114ms/step - loss: 0.0017\n",
            "Epoch 98/100\n",
            "38/38 [==============================] - 4s 112ms/step - loss: 0.0016\n",
            "Epoch 99/100\n",
            "38/38 [==============================] - 4s 116ms/step - loss: 0.0014\n",
            "Epoch 100/100\n",
            "38/38 [==============================] - 4s 114ms/step - loss: 0.0013\n"
          ],
          "name": "stdout"
        },
        {
          "output_type": "execute_result",
          "data": {
            "text/plain": [
              "<tensorflow.python.keras.callbacks.History at 0x7f5971782fd0>"
            ]
          },
          "metadata": {
            "tags": []
          },
          "execution_count": 31
        }
      ]
    },
    {
      "cell_type": "code",
      "metadata": {
        "id": "ltgJuzPbjSbA"
      },
      "source": [
        "# Part 3 - Making the predictions and visualising the results"
      ],
      "execution_count": 32,
      "outputs": []
    },
    {
      "cell_type": "code",
      "metadata": {
        "id": "0-iGOos6jWJN"
      },
      "source": [
        "# Getting the real stock price of 2017\n",
        "dataset_test = pd.read_csv(\"Google_Stock_Price_Test.csv\")\n",
        "real_stock_price = dataset_test.iloc[:, 1:2].values"
      ],
      "execution_count": 33,
      "outputs": []
    },
    {
      "cell_type": "code",
      "metadata": {
        "id": "aw0aAQDPjbfw"
      },
      "source": [
        "# Getting the predicted stock price of 2017\n",
        "\n",
        "# We need to get T to T-59 prices of the stock for predicting the price at time T+1\n",
        "# So we have to concatenate those with the test set (vertical concat - axis=1)\n",
        "dataset_total = pd.concat((dataset_train[\"Open\"], dataset_test[\"Open\"]), axis=0)\n",
        "inputs = dataset_total[len(dataset_train) - len(dataset_test) - 60:].values\n",
        "\n",
        "# Now get this input to correct format (shape)\n",
        "inputs = inputs.reshape(-1, 1)\n",
        "\n",
        "# Scaling (only inputs, not test value)\n",
        "# Only use transform and not fit_transform (to get same scaling as the previous fitted model)\n",
        "inputs = sc.transform(inputs)\n"
      ],
      "execution_count": 36,
      "outputs": []
    },
    {
      "cell_type": "code",
      "metadata": {
        "id": "4Rdxj8Kc2pW7",
        "outputId": "95af0f7a-7439-498a-83e8-c44eb260c02e",
        "colab": {
          "base_uri": "https://localhost:8080/",
          "height": 35
        }
      },
      "source": [
        "inputs.shape"
      ],
      "execution_count": 41,
      "outputs": [
        {
          "output_type": "execute_result",
          "data": {
            "text/plain": [
              "(100, 1)"
            ]
          },
          "metadata": {
            "tags": []
          },
          "execution_count": 41
        }
      ]
    },
    {
      "cell_type": "code",
      "metadata": {
        "id": "7n8HFSOt2Kfe",
        "outputId": "70cf0677-9e90-4d07-826e-b65db5d8cc6a",
        "colab": {
          "base_uri": "https://localhost:8080/",
          "height": 35
        }
      },
      "source": [
        "len(dataset_test)"
      ],
      "execution_count": 39,
      "outputs": [
        {
          "output_type": "execute_result",
          "data": {
            "text/plain": [
              "20"
            ]
          },
          "metadata": {
            "tags": []
          },
          "execution_count": 39
        }
      ]
    },
    {
      "cell_type": "code",
      "metadata": {
        "id": "IbcRlNfI2Me_"
      },
      "source": [
        "# Obtain the right 3-D format for Neural Network\n",
        "X_test = []\n",
        "for i in range(timesteps, len(dataset_test) + timesteps):\n",
        "    X_test.append(inputs[i-timesteps:i, 0])\n",
        "\n",
        "X_test = np.array(X_test)\n",
        "\n",
        "X_test = np.reshape(X_test, (X_test.shape[0], X_test.shape[1], 1))"
      ],
      "execution_count": 42,
      "outputs": []
    },
    {
      "cell_type": "code",
      "metadata": {
        "id": "rRcxTDd93gn9"
      },
      "source": [
        "# Prediction of the stock price\n",
        "predicted_stock_price = regressor.predict(X_test)\n",
        "\n",
        "# Inverse the scaling of the prediction (to get the original SCALE)\n",
        "predicted_stock_price = sc.inverse_transform(predicted_stock_price)"
      ],
      "execution_count": 43,
      "outputs": []
    },
    {
      "cell_type": "code",
      "metadata": {
        "id": "WlpCoDTD4IQL",
        "outputId": "46a5564a-e813-4c82-fb49-a43e917fcbe9",
        "colab": {
          "base_uri": "https://localhost:8080/",
          "height": 364
        }
      },
      "source": [
        "predicted_stock_price"
      ],
      "execution_count": 44,
      "outputs": [
        {
          "output_type": "execute_result",
          "data": {
            "text/plain": [
              "array([[771.42035],\n",
              "       [764.2636 ],\n",
              "       [762.1098 ],\n",
              "       [765.6831 ],\n",
              "       [768.69354],\n",
              "       [773.1106 ],\n",
              "       [778.711  ],\n",
              "       [783.767  ],\n",
              "       [789.03845],\n",
              "       [793.2691 ],\n",
              "       [795.2724 ],\n",
              "       [796.8272 ],\n",
              "       [794.7798 ],\n",
              "       [794.74365],\n",
              "       [795.93634],\n",
              "       [796.19073],\n",
              "       [795.7613 ],\n",
              "       [795.5148 ],\n",
              "       [796.59094],\n",
              "       [794.49225]], dtype=float32)"
            ]
          },
          "metadata": {
            "tags": []
          },
          "execution_count": 44
        }
      ]
    },
    {
      "cell_type": "code",
      "metadata": {
        "id": "G-ID-MPyjd5w"
      },
      "source": [
        "# Visualizing the results"
      ],
      "execution_count": 35,
      "outputs": []
    },
    {
      "cell_type": "code",
      "metadata": {
        "id": "zVkGD_ti4NYY",
        "outputId": "5bf0064c-7c21-42f2-8dea-b3f616894b75",
        "colab": {
          "base_uri": "https://localhost:8080/",
          "height": 295
        }
      },
      "source": [
        "plt.plot(real_stock_price, color='red', label = \"Real Google Stock Price\")\n",
        "plt.plot(predicted_stock_price, color='blue', label = \"Predicted Google Stock Price\")\n",
        "plt.title(\"Google Stock Price Prediction\")\n",
        "plt.xlabel(\"Time\")\n",
        "plt.ylabel(\"Google Stock Price ($)\")\n",
        "plt.legend()\n",
        "plt.show()"
      ],
      "execution_count": 45,
      "outputs": [
        {
          "output_type": "display_data",
          "data": {
            "image/png": "[encoded data removed]",
            "text/plain": [
              "<Figure size 432x288 with 1 Axes>"
            ]
          },
          "metadata": {
            "tags": [],
            "needs_background": "light"
          }
        }
      ]
    },
    {
      "cell_type": "code",
      "metadata": {
        "id": "hbn3Cjf16Kmc"
      },
      "source": [
        ""
      ],
      "execution_count": null,
      "outputs": []
    }
  ]
}